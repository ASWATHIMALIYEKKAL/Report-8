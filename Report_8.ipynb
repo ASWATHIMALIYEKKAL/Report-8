{
  "nbformat": 4,
  "nbformat_minor": 0,
  "metadata": {
    "colab": {
      "provenance": []
    },
    "kernelspec": {
      "name": "python3",
      "display_name": "Python 3"
    },
    "language_info": {
      "name": "python"
    }
  },
  "cells": [
    {
      "cell_type": "code",
      "execution_count": 1,
      "metadata": {
        "colab": {
          "base_uri": "https://localhost:8080/"
        },
        "id": "1sQ8pEHeU7EL",
        "outputId": "ac469c0c-1009-4eaa-f80e-0b9a6767553c"
      },
      "outputs": [
        {
          "output_type": "stream",
          "name": "stdout",
          "text": [
            "Requirement already satisfied: pymupdf in /usr/local/lib/python3.10/dist-packages (1.24.10)\n",
            "Requirement already satisfied: PyMuPDFb==1.24.10 in /usr/local/lib/python3.10/dist-packages (from pymupdf) (1.24.10)\n"
          ]
        }
      ],
      "source": [
        "!pip install pymupdf"
      ]
    },
    {
      "cell_type": "code",
      "source": [
        "import fitz  # PyMuPDF\n",
        "import csv"
      ],
      "metadata": {
        "id": "yEmHc4Z4V6cf"
      },
      "execution_count": 2,
      "outputs": []
    },
    {
      "cell_type": "code",
      "source": [
        "# Function to extract text from PDF\n",
        "def extract_text_from_pdf(pdf_path):\n",
        "    text = \"\"\n",
        "    pdf_document = fitz.open(pdf_path)\n",
        "    for page_num in range(pdf_document.page_count):\n",
        "        page = pdf_document[page_num]\n",
        "        text += page.get_text()\n",
        "    return text"
      ],
      "metadata": {
        "id": "CVdijCCqV-l_"
      },
      "execution_count": 3,
      "outputs": []
    },
    {
      "cell_type": "code",
      "source": [
        "# Ayurveda terms categorized into various classes\n",
        "ayurveda_terms = {\n",
        "    'ingredients': [\n",
        "        'turmeric', 'ashwagandha', 'ginger', 'amla', 'ghee', 'honey',\n",
        "        'triphala', 'tulsi', 'brahmi', 'neem', 'shatavari', 'arjuna',\n",
        "        'licorice', 'gokshura', 'haritaki', 'pippali', 'cumin', 'coriander',\n",
        "        'rakta', 'musta', 'guduchi', 'keshar', 'satavari', 'yastimadhu', 'tankan'\n",
        "    ],\n",
        "    'symptoms': [\n",
        "        'fever', 'cough', 'pain', 'headache', 'nausea', 'vomiting',\n",
        "        'diarrhea', 'constipation', 'fatigue', 'dizziness', 'indigestion',\n",
        "        'swelling', 'itching', 'rash', 'sweating', 'tremors', 'shortness of breath',\n",
        "        'pitta', 'vata', 'kapha', 'burning sensation', 'sore throat', 'loss of appetite',\n",
        "        'joint pain', 'numbness', 'dryness'\n",
        "    ],\n",
        "    'treatments': [\n",
        "        'panchakarma', 'abhyanga', 'basti', 'nasya', 'shirodhara',\n",
        "        'virechana', 'vaman', 'rakta moksha', 'kati basti', 'udvartana',\n",
        "        'swedana', 'shirolepa', 'dhanyamla dhara', 'anjanam', 'lepana',\n",
        "        'yoga', 'meditation', 'triphala', 'svedana', 'netra tarpana',\n",
        "        'nadi shodhana', 'anjanam', 'talam', 'marma therapy'\n",
        "    ],\n",
        "    'diseases': [\n",
        "        'arthritis', 'diabetes', 'asthma', 'eczema', 'psoriasis', 'obesity',\n",
        "        'hypertension', 'ulcers', 'anemia', 'bronchitis', 'sinusitis',\n",
        "        'acne', 'gout', 'indigestion', 'dyspepsia', 'gastritis',\n",
        "        'insomnia', 'migraine', 'constipation', 'jwara', 'jaundice', 'piles',\n",
        "        'urinary tract infections', 'hemorrhoids', 'depression', 'anxiety',\n",
        "        'paralysis', 'leprosy', 'malarial fever'\n",
        "    ],\n",
        "    'medical_plants': [\n",
        "        'tulsi', 'neem', 'brahmi', 'ashwagandha', 'amla', 'shatavari',\n",
        "        'giloy', 'moringa', 'arjuna', 'triphala', 'vidanga', 'guggulu',\n",
        "        'kalmegh', 'bhumi amla', 'jatamansi', 'manjistha', 'punarnava',\n",
        "        'bakuchi', 'kesar', 'kapikacchu', 'shankhpushpi', 'bilva', 'vidari',\n",
        "        'kushta', 'patala', 'sariva', 'shigru', 'guduchi'\n",
        "    ]\n",
        "}"
      ],
      "metadata": {
        "id": "LrKrQe8eV-o1"
      },
      "execution_count": 4,
      "outputs": []
    },
    {
      "cell_type": "code",
      "source": [
        "# Function to find sentences with Ayurveda terms\n",
        "def find_sentences(text, terms_dict):\n",
        "    sentences = text.split('.')\n",
        "    term_sentences = []\n",
        "\n",
        "    for sentence in sentences:\n",
        "        for category, terms in terms_dict.items():\n",
        "            for term in terms:\n",
        "                if term.lower() in sentence.lower():\n",
        "                    term_sentences.append([term, sentence.strip(), category])\n",
        "\n",
        "    return term_sentences"
      ],
      "metadata": {
        "id": "DWO-EOnYV-se"
      },
      "execution_count": 5,
      "outputs": []
    },
    {
      "cell_type": "code",
      "source": [
        "# Function to write data to CSV with correct SL No.\n",
        "def write_to_csv(rows, output_csv):\n",
        "    headers = ['SL No.', 'Ayurveda Term', 'Sentence', 'Classification']\n",
        "\n",
        "    with open(output_csv, 'w', newline='', encoding='utf-8') as file:\n",
        "        writer = csv.writer(file)\n",
        "        writer.writerow(headers)\n",
        "\n",
        "        for index, row in enumerate(rows, start=1):\n",
        "            writer.writerow([index] + row)\n"
      ],
      "metadata": {
        "id": "izU-9C_zWFGv"
      },
      "execution_count": 6,
      "outputs": []
    },
    {
      "cell_type": "code",
      "source": [
        "# Function to extract and process terms while ensuring uniqueness\n",
        "def process_pdf_to_csv(pdf_path, output_csv):\n",
        "    text = extract_text_from_pdf(pdf_path)\n",
        "    ayurveda_term_sentences = find_sentences(text, ayurveda_terms)\n",
        "    unique_terms = set()  # Set to store distinct terms\n",
        "\n",
        "    # Process and store unique terms with their context and classification\n",
        "    rows = []\n",
        "    for term_info in ayurveda_term_sentences:\n",
        "        term = term_info[0]  # Access the term\n",
        "        if term not in unique_terms:\n",
        "            unique_terms.add(term)\n",
        "            rows.append(term_info)  # Add the term only if it's not a duplicate\n",
        "\n",
        "    # Write distinct rows to the CSV with correct serial numbers\n",
        "    write_to_csv(rows, output_csv)"
      ],
      "metadata": {
        "id": "yF4tp6EuWFKH"
      },
      "execution_count": 7,
      "outputs": []
    },
    {
      "cell_type": "code",
      "source": [
        "\n",
        "pdf_path = “Disease explanation in charaka samhita made easy - Ebook.pdf”\n",
        "output_csv = \"distinct_ayurveda_terms_classification.csv\"\n",
        "process_pdf_to_csv(pdf_path, output_csv)\n",
        "print(f\"Extraction and classification completed. Data saved to {output_csv}\")"
      ],
      "metadata": {
        "colab": {
          "base_uri": "https://localhost:8080/"
        },
        "id": "qTF2jN-QWVxM",
        "outputId": "8502ce35-5590-459e-d48a-4ef2465804cb"
      },
      "execution_count": 8,
      "outputs": [
        {
          "output_type": "stream",
          "name": "stdout",
          "text": [
            "Extraction and classification completed. Data saved to distinct_ayurveda_terms_classification.csv\n"
          ]
        }
      ]
    },
    {
      "cell_type": "code",
      "source": [],
      "metadata": {
        "id": "U0CU53CEWOb8"
      },
      "execution_count": 8,
      "outputs": []
    }
  ]
}